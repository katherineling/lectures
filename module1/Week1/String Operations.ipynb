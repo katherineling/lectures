{
 "cells": [
  {
   "cell_type": "markdown",
   "metadata": {},
   "source": [
    "String operations documentation\n",
    "https://docs.python.org/3/library/string.html\n",
    "    "
   ]
  },
  {
   "cell_type": "markdown",
   "metadata": {},
   "source": [
    "The strings can be either Unicode strings (str) as well as 8-bit strings (bytes)"
   ]
  },
  {
   "cell_type": "code",
   "execution_count": 1,
   "metadata": {},
   "outputs": [
    {
     "name": "stdout",
     "output_type": "stream",
     "text": [
      "HelloWorld\n"
     ]
    }
   ],
   "source": [
    "print('Hello' + 'World')"
   ]
  },
  {
   "cell_type": "code",
   "execution_count": 2,
   "metadata": {},
   "outputs": [
    {
     "name": "stdout",
     "output_type": "stream",
     "text": [
      "HelloHelloHelloHelloHelloHelloHelloHello\n"
     ]
    }
   ],
   "source": [
    "print('Hello' * 8)"
   ]
  },
  {
   "cell_type": "code",
   "execution_count": null,
   "metadata": {},
   "outputs": [],
   "source": []
  },
  {
   "cell_type": "code",
   "execution_count": 7,
   "metadata": {},
   "outputs": [
    {
     "name": "stdout",
     "output_type": "stream",
     "text": [
      "Happy Puppies\n"
     ]
    }
   ],
   "source": [
    "x = 'Happy'\n",
    "y = 'Puppies'\n",
    "new = 'fafafsafa'\n",
    "z = [x,y]\n",
    "print(' '.join(z))\n",
    "z.append(new)"
   ]
  },
  {
   "cell_type": "code",
   "execution_count": 8,
   "metadata": {},
   "outputs": [
    {
     "data": {
      "text/plain": [
       "['Happy', 'Puppies', 'fafafsafa']"
      ]
     },
     "execution_count": 8,
     "metadata": {},
     "output_type": "execute_result"
    }
   ],
   "source": [
    "z"
   ]
  },
  {
   "cell_type": "markdown",
   "metadata": {},
   "source": [
    "\n",
    "We can use the split method to turn strings into lists based on a separator that we designate (spaces if left empty).\n"
   ]
  },
  {
   "cell_type": "code",
   "execution_count": 11,
   "metadata": {},
   "outputs": [
    {
     "name": "stdout",
     "output_type": "stream",
     "text": [
      "['They ate the ', 'ystery ', 'eat. It tasted like chicken. sgsd fdasgs g afgs gs.']\n"
     ]
    }
   ],
   "source": [
    "a = 'They ate the mystery meat. It tasted like chicken. sgsd fdasgs g afgs gs.'\n",
    "\n",
    "# print(a.split())\n",
    "# print(a.split('.'))\n",
    "print(a.split('m'))"
   ]
  },
  {
   "cell_type": "code",
   "execution_count": 13,
   "metadata": {},
   "outputs": [
    {
     "name": "stdout",
     "output_type": "stream",
     "text": [
      "False\n",
      "False\n",
      "False\n"
     ]
    }
   ],
   "source": [
    "b = 'There is no business like show business.'\n",
    "\n",
    "print(b.startswith('T'))\n",
    "print(b.startswith('There'))\n",
    "print(b.startswith('there'))"
   ]
  },
  {
   "cell_type": "code",
   "execution_count": 14,
   "metadata": {},
   "outputs": [
    {
     "data": {
      "text/plain": [
       "'  dgss\\nsrtse\\nsrset\\nsys'"
      ]
     },
     "execution_count": 14,
     "metadata": {},
     "output_type": "execute_result"
    }
   ],
   "source": [
    "'''  dgss\n",
    "srtse\n",
    "srset\n",
    "sys'''"
   ]
  },
  {
   "cell_type": "raw",
   "metadata": {},
   "source": [
    "\n",
    "QUICK QUIZ  - How will you enter a string like this :\n",
    "    \n",
    "stringName = \"i want to keep on writing it for \n",
    "             multiple lines .............\"                  \"   \n"
   ]
  },
  {
   "cell_type": "code",
   "execution_count": null,
   "metadata": {},
   "outputs": [],
   "source": [
    "string = '''dasa\n",
    "                dafdff'''"
   ]
  },
  {
   "cell_type": "code",
   "execution_count": 15,
   "metadata": {},
   "outputs": [
    {
     "data": {
      "text/plain": [
       "'\\n\\nHi \\nMy NMe =\\nasd\\nasd\\n\\n\\n\\n\\n'"
      ]
     },
     "execution_count": 15,
     "metadata": {},
     "output_type": "execute_result"
    }
   ],
   "source": [
    "x = '''\n",
    "\n",
    "Hi \n",
    "My NMe =\n",
    "asd\n",
    "asd\n",
    "\n",
    "\n",
    "\n",
    "\n",
    "'''\n",
    "x"
   ]
  },
  {
   "cell_type": "markdown",
   "metadata": {},
   "source": [
    "\n",
    "Note that this is a boolean operation and returns True False as a result\n"
   ]
  },
  {
   "cell_type": "code",
   "execution_count": 21,
   "metadata": {},
   "outputs": [
    {
     "name": "stdout",
     "output_type": "stream",
     "text": [
      "True\n",
      "False\n",
      "False\n"
     ]
    }
   ],
   "source": [
    "b = 'There is no business like show business.'\n",
    "print(b.endswith('.'))\n",
    "print(b.endswith('business'))\n",
    "print(b.endswith('Business.'))"
   ]
  },
  {
   "cell_type": "code",
   "execution_count": 22,
   "metadata": {},
   "outputs": [
    {
     "name": "stdout",
     "output_type": "stream",
     "text": [
      "True\n",
      "True\n",
      "False\n"
     ]
    }
   ],
   "source": [
    "print('like' in b)\n",
    "print('business' in b)\n",
    "print('Business' in b)"
   ]
  },
  {
   "cell_type": "code",
   "execution_count": 23,
   "metadata": {},
   "outputs": [
    {
     "name": "stdout",
     "output_type": "stream",
     "text": [
      "she had a marvelous assortment of puppets.\n",
      "SHE HAD A MARVELOUS ASSORTMENT OF PUPPETS.\n",
      "She had a marvelous assortment of puppets.\n",
      "She Had A Marvelous Assortment Of Puppets.\n"
     ]
    }
   ],
   "source": [
    "c = 'shE HaD a maRveLoUs aSsoRtmeNt of PUPPETS.'\n",
    "\n",
    "print(c.lower())\n",
    "print(c.upper())\n",
    "print(c.capitalize())\n",
    "print(c.title())"
   ]
  },
  {
   "cell_type": "code",
   "execution_count": 28,
   "metadata": {},
   "outputs": [
    {
     "name": "stdout",
     "output_type": "stream",
     "text": [
      "        II   I have a tendency to leave trailing spaces. \n"
     ]
    }
   ],
   "source": [
    "d = '        II   I have a tendency to leave trailing spaces. II'\n",
    "\n",
    "# print(d.strip(' I'))\n",
    "# print(d.lstrip())\n",
    "print(d.rstrip('I'))"
   ]
  },
  {
   "cell_type": "code",
   "execution_count": 32,
   "metadata": {},
   "outputs": [
    {
     "name": "stdout",
     "output_type": "stream",
     "text": [
      "I thought the movie was horrible wonderful !\n",
      "I thought the movie was just OK just OK !\n"
     ]
    }
   ],
   "source": [
    "e = 'I thought the movie was wonderful wonderful !'\n",
    "print(e.replace('wonderful', 'horrible', 1))\n",
    "print(e.replace('wonderful', 'just OK'))"
   ]
  },
  {
   "cell_type": "code",
   "execution_count": 35,
   "metadata": {},
   "outputs": [
    {
     "data": {
      "text/plain": [
       "'This is Ironhack'"
      ]
     },
     "execution_count": 35,
     "metadata": {},
     "output_type": "execute_result"
    }
   ],
   "source": [
    "string = \"This is Ironhack.\"\n",
    "string.replace('.','')"
   ]
  },
  {
   "cell_type": "code",
   "execution_count": null,
   "metadata": {},
   "outputs": [],
   "source": []
  },
  {
   "cell_type": "markdown",
   "metadata": {},
   "source": [
    "#### Note these techniques are important in data wrangling/cleaning specifically text mining \n"
   ]
  },
  {
   "cell_type": "code",
   "execution_count": null,
   "metadata": {},
   "outputs": [],
   "source": []
  },
  {
   "cell_type": "markdown",
   "metadata": {},
   "source": [
    "### REGEX Regular Expressions:"
   ]
  },
  {
   "cell_type": "markdown",
   "metadata": {},
   "source": [
    "Documentation https://docs.python.org/3/library/re.html"
   ]
  },
  {
   "cell_type": "markdown",
   "metadata": {},
   "source": [
    "They are like pattern matching operations\n",
    "\n",
    "Why do we need it?\n",
    "\n",
    "Unicode strings and 8-bit strings cannot be mixed: that is, you cannot match a Unicode string with a byte pattern or vice-versa; similarly, when asking for a substitution, the replacement string must be of the same type as both the pattern and the search string.\n",
    "\n"
   ]
  },
  {
   "cell_type": "code",
   "execution_count": 36,
   "metadata": {},
   "outputs": [],
   "source": [
    "import re"
   ]
  },
  {
   "cell_type": "code",
   "execution_count": 56,
   "metadata": {},
   "outputs": [
    {
     "name": "stdout",
     "output_type": "stream",
     "text": [
      "['neigh']\n"
     ]
    }
   ],
   "source": [
    "text = 'My neighbor, Mr. Rogers, has 5 dogs.'\n",
    "pattern = 'neigh'\n",
    "print(re.findall(pattern, text))"
   ]
  },
  {
   "cell_type": "code",
   "execution_count": 57,
   "metadata": {},
   "outputs": [
    {
     "name": "stdout",
     "output_type": "stream",
     "text": [
      "['neigh', 'neigh', 'neigh']\n"
     ]
    }
   ],
   "source": [
    "text = 'My neighbor, Mr. Rogers, has 5 dogs, neigh m neigh.'\n",
    "pattern = 'neigh'\n",
    "print(re.findall(pattern, text))"
   ]
  },
  {
   "cell_type": "code",
   "execution_count": null,
   "metadata": {},
   "outputs": [],
   "source": []
  },
  {
   "cell_type": "code",
   "execution_count": 62,
   "metadata": {},
   "outputs": [
    {
     "name": "stdout",
     "output_type": "stream",
     "text": [
      "['M', 'y', 'M']\n"
     ]
    }
   ],
   "source": [
    "text = 'My neighbor, Mr. Rogers, has 5 dogs.'\n",
    "print(re.findall('[My]', text))   #Note that this is CASE SENSITIVE\n",
    "# ''.join(re.findall('[Mbn]', text))"
   ]
  },
  {
   "cell_type": "code",
   "execution_count": 63,
   "metadata": {},
   "outputs": [
    {
     "data": {
      "text/plain": [
       "'qrq gsgshs gstwqer'"
      ]
     },
     "execution_count": 63,
     "metadata": {},
     "output_type": "execute_result"
    }
   ],
   "source": [
    "x = ['qrq', 'gsgshs', 'gstwqer']\n",
    "' '.join(x)"
   ]
  },
  {
   "cell_type": "markdown",
   "metadata": {},
   "source": [
    "\n",
    "Predefined sets that we can use as shortcuts\n"
   ]
  },
  {
   "cell_type": "code",
   "execution_count": 41,
   "metadata": {},
   "outputs": [
    {
     "name": "stdout",
     "output_type": "stream",
     "text": [
      "['y', 'n', 'e', 'i', 'g', 'h', 'b', 'o', 'r', 'r', 'o', 'g', 'e', 'r', 's', 'h', 'a', 's', 'd', 'o', 'g', 's']\n"
     ]
    }
   ],
   "source": [
    "print(re.findall('[a-z]', text))"
   ]
  },
  {
   "cell_type": "code",
   "execution_count": 64,
   "metadata": {},
   "outputs": [
    {
     "name": "stdout",
     "output_type": "stream",
     "text": [
      "['M', 'M', 'R']\n"
     ]
    }
   ],
   "source": [
    "print(re.findall('[A-Z]', text))"
   ]
  },
  {
   "cell_type": "code",
   "execution_count": 67,
   "metadata": {},
   "outputs": [
    {
     "name": "stdout",
     "output_type": "stream",
     "text": [
      "[' ', ',', ' ', '.', ' ', ',', ' ', ' ', ' ', '.']\n"
     ]
    }
   ],
   "source": [
    "print(re.findall('[a-zA-Z]', text))"
   ]
  },
  {
   "cell_type": "code",
   "execution_count": 68,
   "metadata": {},
   "outputs": [
    {
     "name": "stdout",
     "output_type": "stream",
     "text": [
      "['5']\n"
     ]
    }
   ],
   "source": [
    "print(re.findall('[0-9]', text))"
   ]
  },
  {
   "cell_type": "markdown",
   "metadata": {},
   "source": [
    "\n",
    "You can also change the size of the pre-defined sets as shown below:\n",
    "    "
   ]
  },
  {
   "cell_type": "code",
   "execution_count": 45,
   "metadata": {},
   "outputs": [
    {
     "name": "stdout",
     "output_type": "stream",
     "text": [
      "['y']\n"
     ]
    }
   ],
   "source": [
    "print(re.findall('[w-z]', text))"
   ]
  },
  {
   "cell_type": "markdown",
   "metadata": {},
   "source": [
    "\n",
    "Combine predefined sets together\n"
   ]
  },
  {
   "cell_type": "code",
   "execution_count": 46,
   "metadata": {},
   "outputs": [
    {
     "name": "stdout",
     "output_type": "stream",
     "text": [
      "['M', 'y', 'n', 'e', 'i', 'g', 'h', 'b', 'o', 'r', 'M', 'r', 'R', 'o', 'g', 'e', 'r', 's', 'h', 'a', 's', '5', 'd', 'o', 'g', 's']\n"
     ]
    }
   ],
   "source": [
    "text = 'My neighbor, Mr. Rogers, has 5 dogs.'\n",
    "print(re.findall('[a-zA-Z0-9]', text))"
   ]
  },
  {
   "cell_type": "code",
   "execution_count": 70,
   "metadata": {},
   "outputs": [
    {
     "name": "stdout",
     "output_type": "stream",
     "text": [
      "['M', 'y', 'n', 'e', 'i', 'g', 'h', 'b', 'o', 'r', 'M', 'r', 'R', 'o', 'g', 'e', 'r', 's', 'h', 'a', 's', 'd', 'o', 'g', 's']\n"
     ]
    }
   ],
   "source": [
    "text = 'My neighbor, Mr. Rogers, has 5 dogs.'\n",
    "print(re.findall('[A-Za-z]', text))"
   ]
  },
  {
   "cell_type": "code",
   "execution_count": 71,
   "metadata": {},
   "outputs": [
    {
     "name": "stdout",
     "output_type": "stream",
     "text": [
      "['M', 'y', 'n', 'e', 'i', 'g', 'h', 'b', 'o', 'r', 'M', 'r', 'R', 'o', 'g', 'e', 'r', 's', 'h', 'a', 's', 'd', 'o', 'g', 's']\n"
     ]
    }
   ],
   "source": [
    "text = 'My neighbor, Mr. Rogers, has 5 dogs.'\n",
    "print(re.findall('[a-zA-Z]', text))"
   ]
  },
  {
   "cell_type": "markdown",
   "metadata": {},
   "source": [
    "QUICK QUESTION\n",
    "\n",
    "What is the difference between the last piece of code and this code\n",
    "\n",
    "print(re.findall('[A-Z a-z]', text))  #Note the extra space that's added"
   ]
  },
  {
   "cell_type": "markdown",
   "metadata": {},
   "source": [
    "\n",
    "Complement of the pre defined set \n"
   ]
  },
  {
   "cell_type": "code",
   "execution_count": 72,
   "metadata": {},
   "outputs": [
    {
     "name": "stdout",
     "output_type": "stream",
     "text": [
      "[' ', ',', ' ', '.', ' ', ',', ' ', ' ', ' ', '.']\n"
     ]
    }
   ],
   "source": [
    "print(re.findall('[^A-z0-9]', text))"
   ]
  },
  {
   "cell_type": "markdown",
   "metadata": {},
   "source": [
    "#### Special Sequences  / Escape Sequence"
   ]
  },
  {
   "cell_type": "markdown",
   "metadata": {},
   "source": [
    "\n",
    "These are like shortcuts (also known as character classes ) that help us to reduce the expressions such as [a-z] \n",
    "to much shorter\n"
   ]
  },
  {
   "cell_type": "raw",
   "metadata": {},
   "source": [
    "\\w: Any alphanumeric character.\n",
    "\\W: Any non-alphanumeric character.\n",
    "\\d: Any numeric character.\n",
    "\\D: Any non-numeric character.\n",
    "\\s: Any whitespace characters.\n",
    "\\S: Any non-whitespace characters.\n",
    ".: Any character except newline (\\n)"
   ]
  },
  {
   "cell_type": "code",
   "execution_count": 73,
   "metadata": {},
   "outputs": [
    {
     "name": "stdout",
     "output_type": "stream",
     "text": [
      "['M', 'y', 'n', 'e', 'i', 'g', 'h', 'b', 'o', 'r', 'M', 'r', 'R', 'o', 'g', 'e', 'r', 's', 'h', 'a', 's', '5', 'd', 'o', 'g', 's']\n"
     ]
    }
   ],
   "source": [
    "print(re.findall('\\w',text))"
   ]
  },
  {
   "cell_type": "code",
   "execution_count": 49,
   "metadata": {},
   "outputs": [
    {
     "name": "stdout",
     "output_type": "stream",
     "text": [
      "['My neighbor', ' Mr. Rogers', ' has 5 dogs.']\n"
     ]
    }
   ],
   "source": [
    "print(re.split(',', text))"
   ]
  },
  {
   "cell_type": "code",
   "execution_count": 50,
   "metadata": {},
   "outputs": [],
   "source": [
    "#print(re.split('[\\A]', text))"
   ]
  },
  {
   "cell_type": "code",
   "execution_count": 77,
   "metadata": {},
   "outputs": [
    {
     "data": {
      "text/plain": [
       "'My neighbor, Mr. Rogers, has 5 dogs.'"
      ]
     },
     "execution_count": 77,
     "metadata": {},
     "output_type": "execute_result"
    }
   ],
   "source": [
    "text"
   ]
  },
  {
   "cell_type": "code",
   "execution_count": 79,
   "metadata": {},
   "outputs": [
    {
     "name": "stdout",
     "output_type": "stream",
     "text": [
      "['My', 'neighbor,', 'Mr.', 'Rogers,', 'has', '5', 'dogs.']\n"
     ]
    }
   ],
   "source": [
    "print(re.split(' ', text))"
   ]
  },
  {
   "cell_type": "code",
   "execution_count": 53,
   "metadata": {},
   "outputs": [
    {
     "name": "stdout",
     "output_type": "stream",
     "text": [
      "My neighbor, Mr. Rogers, has 100 dogs.\n"
     ]
    }
   ],
   "source": [
    "print(re.sub('[0-9]', '100', text))"
   ]
  },
  {
   "cell_type": "code",
   "execution_count": null,
   "metadata": {},
   "outputs": [],
   "source": []
  },
  {
   "cell_type": "code",
   "execution_count": null,
   "metadata": {},
   "outputs": [],
   "source": []
  },
  {
   "cell_type": "code",
   "execution_count": null,
   "metadata": {},
   "outputs": [],
   "source": []
  }
 ],
 "metadata": {
  "kernelspec": {
   "display_name": "Python 3",
   "language": "python",
   "name": "python3"
  },
  "language_info": {
   "codemirror_mode": {
    "name": "ipython",
    "version": 3
   },
   "file_extension": ".py",
   "mimetype": "text/x-python",
   "name": "python",
   "nbconvert_exporter": "python",
   "pygments_lexer": "ipython3",
   "version": "3.7.3"
  }
 },
 "nbformat": 4,
 "nbformat_minor": 2
}
