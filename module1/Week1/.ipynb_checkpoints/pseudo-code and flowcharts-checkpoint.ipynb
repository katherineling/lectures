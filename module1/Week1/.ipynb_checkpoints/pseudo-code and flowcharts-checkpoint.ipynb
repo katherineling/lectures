{
 "cells": [
  {
   "cell_type": "markdown",
   "metadata": {},
   "source": [
    "Example Pseudo-code:\n",
    "\n",
    "x = Get user input\n",
    "y = Convert x to Celsius\n",
    "Output message displaying Celsius temperature\n",
    "Example code:\n"
   ]
  },
  {
   "cell_type": "code",
   "execution_count": 1,
   "metadata": {},
   "outputs": [
    {
     "name": "stdout",
     "output_type": "stream",
     "text": [
      "Please input a temperature in Fahrenheit.100\n",
      "Your temperature in Celsius is: 37.77777777777778.\n"
     ]
    }
   ],
   "source": [
    "\n",
    "#precise temperature\n",
    "x=input('Please input a temperature in Fahrenheit.')\n",
    "y=(float(x)-32)*5/9\n",
    "print('Your temperature in Celsius is: %s.' %y)"
   ]
  },
  {
   "cell_type": "code",
   "execution_count": null,
   "metadata": {},
   "outputs": [],
   "source": []
  },
  {
   "cell_type": "raw",
   "metadata": {},
   "source": [
    "Pseudo-code:\n",
    "\n",
    "x = input \"Press 1 to convert from Fahrenheit to Celsius or Press 2 to convert from Celsius to Fahrenheit.\"\n",
    "y = input ask what number?\n",
    "z = choice\n",
    "\n",
    "if z = 1 (1 is pressed)\n",
    "    do f to c conversion\n",
    "    print output\n",
    "elif z = 2 (2 is pressed)\n",
    "    do c to f conversion\n",
    "    print output\n",
    "else\n",
    "    print \"Please enter either 1 or 2\"\n",
    "\n",
    "Code:\n",
    "\n"
   ]
  },
  {
   "cell_type": "code",
   "execution_count": 3,
   "metadata": {},
   "outputs": [
    {
     "name": "stdout",
     "output_type": "stream",
     "text": [
      "Press 1 to convert from Fahrenheit to Celsius or Press 2 to convert from Celsius to Fahrenheit.1\n",
      "What is the number you want to convert?100\n",
      "37.77777777777778\n"
     ]
    }
   ],
   "source": [
    "x = int(input(\"Press 1 to convert from Fahrenheit to Celsius or Press 2 to convert from Celsius to Fahrenheit.\"))\n",
    "y = input(\"What is the number you want to convert?\")\n",
    "z = float(x)\n",
    "\n",
    "if z == 1:\n",
    "    y=(float(y)-32)*5/9\n",
    "    print(y)\n",
    "elif z == 2:\n",
    "    y=float(y)*9/5+32\n",
    "    print(y)\n",
    "else:\n",
    "    print(\"Please enter either 1 or 2\")"
   ]
  },
  {
   "cell_type": "code",
   "execution_count": null,
   "metadata": {},
   "outputs": [],
   "source": []
  },
  {
   "cell_type": "raw",
   "metadata": {},
   "source": [
    "Pseudo-code:\n",
    "\n",
    "flag1 = entered value is wrong\n",
    "while flag1 is wrong\n",
    "    x = input \"Press 1 to convert from Fahrenheit to Celsius or Press 2 to convert from Celsius to Fahrenheit. \"\n",
    "    if x is not 1 or 2\n",
    "        print error message\n",
    "    else\n",
    "        z = choice\n",
    "        flag1 = entered value is correct\n",
    "\n",
    "flag2 = entered number is not a number\n",
    "while flag2 is wrong\n",
    "    y = input ask what number?\n",
    "    if y is not number\n",
    "        print error message\n",
    "    else\n",
    "        convert y into float number\n",
    "        flag2 = entered value is correct\n",
    "\n",
    "if z = 1 (1 is pressed)\n",
    "    do f to c conversion\n",
    "    print output\n",
    "else (2 is pressed)\n",
    "    do c to f conversion\n",
    "    print output"
   ]
  },
  {
   "cell_type": "code",
   "execution_count": null,
   "metadata": {},
   "outputs": [],
   "source": []
  },
  {
   "cell_type": "code",
   "execution_count": 4,
   "metadata": {},
   "outputs": [
    {
     "name": "stdout",
     "output_type": "stream",
     "text": [
      "Press 1 to convert from Fahrenheit to Celsius or Press 2 to convert from Celsius to Fahrenheit. 1\n",
      "What is the number you want to convert?100\n",
      "37.77777777777778\n"
     ]
    }
   ],
   "source": [
    "flag1=False\n",
    "while flag1==False:\n",
    "    x = input(\"Press 1 to convert from Fahrenheit to Celsius or Press 2 to convert from Celsius to Fahrenheit. \")\n",
    "    if x not in ['1','2']:\n",
    "        print('ERROR: Please enter either 1 or 2')\n",
    "    else:\n",
    "        z = int(x)\n",
    "        flag1=True\n",
    "\n",
    "flag2=False\n",
    "while flag2==False:\n",
    "    y = input(\"What is the number you want to convert?\")\n",
    "    if y.replace(\".\", \"\", 1).lstrip('+-').isdigit()==False:\n",
    "        print('ERROR: Please enter a number')\n",
    "    else:\n",
    "        y=float(y)\n",
    "        flag2=True\n",
    "\n",
    "if z == 1:\n",
    "    y=(y-32)*5/9\n",
    "    print(y)\n",
    "else:\n",
    "    y=y*9/5+32\n",
    "    print(y)"
   ]
  },
  {
   "cell_type": "code",
   "execution_count": null,
   "metadata": {},
   "outputs": [],
   "source": []
  },
  {
   "cell_type": "code",
   "execution_count": 12,
   "metadata": {},
   "outputs": [
    {
     "data": {
      "text/plain": [
       "False"
      ]
     },
     "execution_count": 12,
     "metadata": {},
     "output_type": "execute_result"
    }
   ],
   "source": [
    "y = '10.0.3'\n",
    "y.replace(\".\", \"\", 1).lstrip('+-').isdigit()"
   ]
  },
  {
   "cell_type": "code",
   "execution_count": null,
   "metadata": {},
   "outputs": [],
   "source": []
  },
  {
   "cell_type": "code",
   "execution_count": null,
   "metadata": {},
   "outputs": [],
   "source": []
  },
  {
   "cell_type": "code",
   "execution_count": null,
   "metadata": {},
   "outputs": [],
   "source": []
  },
  {
   "cell_type": "code",
   "execution_count": null,
   "metadata": {},
   "outputs": [],
   "source": []
  },
  {
   "cell_type": "code",
   "execution_count": null,
   "metadata": {},
   "outputs": [],
   "source": []
  },
  {
   "cell_type": "code",
   "execution_count": null,
   "metadata": {},
   "outputs": [],
   "source": []
  }
 ],
 "metadata": {
  "kernelspec": {
   "display_name": "Python 3",
   "language": "python",
   "name": "python3"
  },
  "language_info": {
   "codemirror_mode": {
    "name": "ipython",
    "version": 3
   },
   "file_extension": ".py",
   "mimetype": "text/x-python",
   "name": "python",
   "nbconvert_exporter": "python",
   "pygments_lexer": "ipython3",
   "version": "3.7.3"
  }
 },
 "nbformat": 4,
 "nbformat_minor": 2
}
