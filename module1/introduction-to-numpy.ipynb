{
 "cells": [
  {
   "cell_type": "code",
   "execution_count": 2,
   "metadata": {},
   "outputs": [],
   "source": [
    "import numpy as np"
   ]
  },
  {
   "cell_type": "code",
   "execution_count": 23,
   "metadata": {},
   "outputs": [
    {
     "name": "stdout",
     "output_type": "stream",
     "text": [
      "[[1 2 3]\n",
      " [4 5 6]\n",
      " [7 8 9]]\n"
     ]
    }
   ],
   "source": [
    "lst_lst = [[1,2,3],[4,5,6],[7,8,9]]\n",
    "d = np.array(lst_lst)\n",
    "print(d)"
   ]
  },
  {
   "cell_type": "code",
   "execution_count": 24,
   "metadata": {},
   "outputs": [
    {
     "data": {
      "text/plain": [
       "numpy.ndarray"
      ]
     },
     "execution_count": 24,
     "metadata": {},
     "output_type": "execute_result"
    }
   ],
   "source": [
    "type(d)"
   ]
  },
  {
   "cell_type": "code",
   "execution_count": 33,
   "metadata": {},
   "outputs": [
    {
     "data": {
      "text/plain": [
       "array([[1, 4, 7],\n",
       "       [2, 5, 8],\n",
       "       [3, 6, 9]])"
      ]
     },
     "execution_count": 33,
     "metadata": {},
     "output_type": "execute_result"
    }
   ],
   "source": [
    "d.T"
   ]
  },
  {
   "cell_type": "code",
   "execution_count": 6,
   "metadata": {},
   "outputs": [
    {
     "name": "stdout",
     "output_type": "stream",
     "text": [
      "[[[[0.96200963 0.65922931 0.58451951 0.75278005 0.59398054]\n",
      "   [0.40714581 0.88881293 0.91255042 0.69521432 0.90503553]\n",
      "   [0.3276567  0.32952444 0.0159108  0.96385554 0.50713231]\n",
      "   [0.12688503 0.48339317 0.92596777 0.95975653 0.04422669]]\n",
      "\n",
      "  [[0.23867875 0.60100075 0.70964029 0.72672705 0.09298947]\n",
      "   [0.78552936 0.92883809 0.29945214 0.04544538 0.67899325]\n",
      "   [0.95259315 0.44229622 0.13756504 0.09812686 0.39466889]\n",
      "   [0.02050865 0.84064077 0.89040501 0.95009189 0.08912866]]\n",
      "\n",
      "  [[0.66902445 0.82307407 0.81032644 0.99345518 0.83321397]\n",
      "   [0.37387695 0.10554357 0.06092564 0.92490031 0.7731002 ]\n",
      "   [0.79918786 0.58374184 0.74707148 0.3786134  0.0711543 ]\n",
      "   [0.14567393 0.47261676 0.59232204 0.74643338 0.33839308]]]\n",
      "\n",
      "\n",
      " [[[0.7009307  0.46413459 0.21321284 0.48180958 0.67456394]\n",
      "   [0.85785495 0.97822203 0.69410668 0.49656075 0.41306608]\n",
      "   [0.98854056 0.85961812 0.86432982 0.47082323 0.89041145]\n",
      "   [0.31689571 0.20802875 0.06167956 0.79783412 0.59996705]]\n",
      "\n",
      "  [[0.16123856 0.12389553 0.2994257  0.47538215 0.48880068]\n",
      "   [0.84116364 0.25725964 0.57568514 0.84538694 0.1036625 ]\n",
      "   [0.25697354 0.47730692 0.21221485 0.09106383 0.87821366]\n",
      "   [0.83668856 0.18990773 0.07478123 0.9488977  0.59134025]]\n",
      "\n",
      "  [[0.8571705  0.76082616 0.56197771 0.24595927 0.07393554]\n",
      "   [0.07421895 0.2872047  0.81100346 0.62441361 0.08712737]\n",
      "   [0.41733644 0.41809928 0.74896259 0.54802309 0.482883  ]\n",
      "   [0.31199585 0.62413602 0.67532958 0.93664666 0.92510825]]]]\n"
     ]
    }
   ],
   "source": [
    "c = np.random.random((2,3,4,5))\n",
    "print(c)"
   ]
  },
  {
   "cell_type": "code",
   "execution_count": 21,
   "metadata": {},
   "outputs": [
    {
     "data": {
      "text/plain": [
       "0.442296218459699"
      ]
     },
     "execution_count": 21,
     "metadata": {},
     "output_type": "execute_result"
    }
   ],
   "source": [
    "c[0,1,2,1]"
   ]
  },
  {
   "cell_type": "code",
   "execution_count": 22,
   "metadata": {},
   "outputs": [
    {
     "data": {
      "text/plain": [
       "array([0.72672705, 0.04544538, 0.09812686, 0.95009189])"
      ]
     },
     "execution_count": 22,
     "metadata": {},
     "output_type": "execute_result"
    }
   ],
   "source": [
    "c[0,1,:,3]"
   ]
  },
  {
   "cell_type": "code",
   "execution_count": 16,
   "metadata": {},
   "outputs": [
    {
     "data": {
      "text/plain": [
       "array([[[0.96200963, 0.65922931, 0.58451951, 0.75278005, 0.59398054],\n",
       "        [0.40714581, 0.88881293, 0.91255042, 0.69521432, 0.90503553],\n",
       "        [0.3276567 , 0.32952444, 0.0159108 , 0.96385554, 0.50713231],\n",
       "        [0.12688503, 0.48339317, 0.92596777, 0.95975653, 0.04422669]],\n",
       "\n",
       "       [[0.23867875, 0.60100075, 0.70964029, 0.72672705, 0.09298947],\n",
       "        [0.78552936, 0.92883809, 0.29945214, 0.04544538, 0.67899325],\n",
       "        [0.95259315, 0.44229622, 0.13756504, 0.09812686, 0.39466889],\n",
       "        [0.02050865, 0.84064077, 0.89040501, 0.95009189, 0.08912866]],\n",
       "\n",
       "       [[0.66902445, 0.82307407, 0.81032644, 0.99345518, 0.83321397],\n",
       "        [0.37387695, 0.10554357, 0.06092564, 0.92490031, 0.7731002 ],\n",
       "        [0.79918786, 0.58374184, 0.74707148, 0.3786134 , 0.0711543 ],\n",
       "        [0.14567393, 0.47261676, 0.59232204, 0.74643338, 0.33839308]]])"
      ]
     },
     "execution_count": 16,
     "metadata": {},
     "output_type": "execute_result"
    }
   ],
   "source": [
    "c[0]"
   ]
  },
  {
   "cell_type": "code",
   "execution_count": 7,
   "metadata": {},
   "outputs": [
    {
     "name": "stdout",
     "output_type": "stream",
     "text": [
      "[[0.96200963 0.65922931 0.58451951 0.75278005 0.59398054]\n",
      " [0.40714581 0.88881293 0.91255042 0.69521432 0.90503553]\n",
      " [0.3276567  0.32952444 0.0159108  0.96385554 0.50713231]\n",
      " [0.12688503 0.48339317 0.92596777 0.95975653 0.04422669]]\n"
     ]
    }
   ],
   "source": [
    "x = c[0,0]\n",
    "print(x)"
   ]
  },
  {
   "cell_type": "code",
   "execution_count": 8,
   "metadata": {},
   "outputs": [
    {
     "name": "stdout",
     "output_type": "stream",
     "text": [
      "[[0.23867875 0.60100075 0.70964029 0.72672705 0.09298947]\n",
      " [0.78552936 0.92883809 0.29945214 0.04544538 0.67899325]\n",
      " [0.95259315 0.44229622 0.13756504 0.09812686 0.39466889]\n",
      " [0.02050865 0.84064077 0.89040501 0.95009189 0.08912866]]\n"
     ]
    }
   ],
   "source": [
    "y = c[0,1]\n",
    "print(y)"
   ]
  },
  {
   "cell_type": "code",
   "execution_count": 9,
   "metadata": {},
   "outputs": [
    {
     "name": "stdout",
     "output_type": "stream",
     "text": [
      "[[0.22961126 0.39619731 0.41479859 0.54706562 0.05523394]\n",
      " [0.31982499 0.82556331 0.27326517 0.03159428 0.61451302]\n",
      " [0.31212353 0.14574741 0.00218877 0.09458012 0.20014935]\n",
      " [0.00260224 0.40636001 0.82448633 0.9118569  0.00394187]]\n"
     ]
    }
   ],
   "source": [
    "print(np.multiply(x, y))"
   ]
  },
  {
   "cell_type": "code",
   "execution_count": null,
   "metadata": {},
   "outputs": [],
   "source": []
  },
  {
   "cell_type": "code",
   "execution_count": null,
   "metadata": {},
   "outputs": [],
   "source": []
  },
  {
   "cell_type": "code",
   "execution_count": null,
   "metadata": {},
   "outputs": [],
   "source": []
  },
  {
   "cell_type": "code",
   "execution_count": 10,
   "metadata": {},
   "outputs": [],
   "source": [
    "a = np.random.random((10,4))"
   ]
  },
  {
   "cell_type": "code",
   "execution_count": 11,
   "metadata": {},
   "outputs": [
    {
     "data": {
      "text/plain": [
       "array([[0.33911099, 0.46288633, 0.34125099, 0.29908074],\n",
       "       [0.22005496, 0.14707264, 0.89191119, 0.32138191],\n",
       "       [0.78810435, 0.76593138, 0.32810478, 0.15336296],\n",
       "       [0.91004695, 0.78166651, 0.69085864, 0.84093698],\n",
       "       [0.55123616, 0.83357711, 0.5820751 , 0.22542277],\n",
       "       [0.49020565, 0.95719117, 0.86788015, 0.82521695],\n",
       "       [0.53146556, 0.61707736, 0.17484808, 0.89614151],\n",
       "       [0.8114878 , 0.98458408, 0.37501791, 0.91106186],\n",
       "       [0.74852014, 0.223038  , 0.70124164, 0.95322338],\n",
       "       [0.06988973, 0.06396749, 0.65256393, 0.39035676]])"
      ]
     },
     "execution_count": 11,
     "metadata": {},
     "output_type": "execute_result"
    }
   ],
   "source": [
    "a"
   ]
  },
  {
   "cell_type": "code",
   "execution_count": 12,
   "metadata": {},
   "outputs": [
    {
     "data": {
      "text/plain": [
       "array([0.33911099, 0.46288633, 0.34125099, 0.29908074])"
      ]
     },
     "execution_count": 12,
     "metadata": {},
     "output_type": "execute_result"
    }
   ],
   "source": [
    "a[0]"
   ]
  },
  {
   "cell_type": "code",
   "execution_count": 14,
   "metadata": {},
   "outputs": [
    {
     "data": {
      "text/plain": [
       "array([0.33911099, 0.22005496, 0.78810435, 0.91004695, 0.55123616,\n",
       "       0.49020565, 0.53146556, 0.8114878 , 0.74852014, 0.06988973])"
      ]
     },
     "execution_count": 14,
     "metadata": {},
     "output_type": "execute_result"
    }
   ],
   "source": [
    "a[:,0]"
   ]
  },
  {
   "cell_type": "code",
   "execution_count": 15,
   "metadata": {},
   "outputs": [
    {
     "data": {
      "text/plain": [
       "array([0.33911099, 0.46288633, 0.34125099, 0.29908074])"
      ]
     },
     "execution_count": 15,
     "metadata": {},
     "output_type": "execute_result"
    }
   ],
   "source": [
    "a[0,:]"
   ]
  },
  {
   "cell_type": "code",
   "execution_count": 25,
   "metadata": {},
   "outputs": [
    {
     "data": {
      "text/plain": [
       "array([[0.33911099, 0.46288633, 0.34125099, 0.29908074],\n",
       "       [0.22005496, 0.14707264, 0.89191119, 0.32138191],\n",
       "       [0.78810435, 0.76593138, 0.32810478, 0.15336296],\n",
       "       [0.91004695, 0.78166651, 0.69085864, 0.84093698],\n",
       "       [0.55123616, 0.83357711, 0.5820751 , 0.22542277],\n",
       "       [0.49020565, 0.95719117, 0.86788015, 0.82521695],\n",
       "       [0.53146556, 0.61707736, 0.17484808, 0.89614151],\n",
       "       [0.8114878 , 0.98458408, 0.37501791, 0.91106186],\n",
       "       [0.74852014, 0.223038  , 0.70124164, 0.95322338],\n",
       "       [0.06988973, 0.06396749, 0.65256393, 0.39035676]])"
      ]
     },
     "execution_count": 25,
     "metadata": {},
     "output_type": "execute_result"
    }
   ],
   "source": [
    "a"
   ]
  },
  {
   "cell_type": "code",
   "execution_count": 27,
   "metadata": {},
   "outputs": [
    {
     "data": {
      "text/plain": [
       "array([1.44232906, 1.5804207 , 2.03550347, 3.22350908, 2.19231113,\n",
       "       3.14049393, 2.2195325 , 3.08215166, 2.62602316, 1.17677792])"
      ]
     },
     "execution_count": 27,
     "metadata": {},
     "output_type": "execute_result"
    }
   ],
   "source": [
    "np.sum(a, axis=1)"
   ]
  },
  {
   "cell_type": "code",
   "execution_count": null,
   "metadata": {},
   "outputs": [],
   "source": []
  },
  {
   "cell_type": "code",
   "execution_count": 28,
   "metadata": {},
   "outputs": [],
   "source": [
    "b = np.random.random((5,2,3))"
   ]
  },
  {
   "cell_type": "code",
   "execution_count": 29,
   "metadata": {},
   "outputs": [
    {
     "data": {
      "text/plain": [
       "array([[[0.38973084, 0.0191002 , 0.18773652],\n",
       "        [0.21464275, 0.58620038, 0.84680694]],\n",
       "\n",
       "       [[0.53505859, 0.93952563, 0.60249901],\n",
       "        [0.80177434, 0.65096396, 0.09335336]],\n",
       "\n",
       "       [[0.50950313, 0.69543349, 0.82492723],\n",
       "        [0.56307084, 0.4384564 , 0.78850934]],\n",
       "\n",
       "       [[0.55896894, 0.05176857, 0.69742258],\n",
       "        [0.42302185, 0.13644873, 0.0818405 ]],\n",
       "\n",
       "       [[0.5625527 , 0.76655824, 0.9352826 ],\n",
       "        [0.8642802 , 0.88043324, 0.24586131]]])"
      ]
     },
     "execution_count": 29,
     "metadata": {},
     "output_type": "execute_result"
    }
   ],
   "source": [
    "b"
   ]
  },
  {
   "cell_type": "code",
   "execution_count": 32,
   "metadata": {},
   "outputs": [
    {
     "ename": "IndexError",
     "evalue": "index 2 is out of bounds for axis 1 with size 2",
     "output_type": "error",
     "traceback": [
      "\u001b[0;31m---------------------------------------------------------------------------\u001b[0m",
      "\u001b[0;31mIndexError\u001b[0m                                Traceback (most recent call last)",
      "\u001b[0;32m<ipython-input-32-4207e49db932>\u001b[0m in \u001b[0;36m<module>\u001b[0;34m\u001b[0m\n\u001b[0;32m----> 1\u001b[0;31m \u001b[0mnp\u001b[0m\u001b[0;34m.\u001b[0m\u001b[0msum\u001b[0m\u001b[0;34m(\u001b[0m\u001b[0mb\u001b[0m\u001b[0;34m[\u001b[0m\u001b[0;36m0\u001b[0m\u001b[0;34m,\u001b[0m\u001b[0;36m2\u001b[0m\u001b[0;34m]\u001b[0m\u001b[0;34m)\u001b[0m\u001b[0;34m\u001b[0m\u001b[0;34m\u001b[0m\u001b[0m\n\u001b[0m",
      "\u001b[0;31mIndexError\u001b[0m: index 2 is out of bounds for axis 1 with size 2"
     ]
    }
   ],
   "source": [
    "np.sum(b[0,2])\n",
    "#this results in an error because b is one dimensional. When we use\n",
    "#"
   ]
  },
  {
   "cell_type": "code",
   "execution_count": null,
   "metadata": {},
   "outputs": [],
   "source": []
  }
 ],
 "metadata": {
  "kernelspec": {
   "display_name": "Python 3",
   "language": "python",
   "name": "python3"
  },
  "language_info": {
   "codemirror_mode": {
    "name": "ipython",
    "version": 3
   },
   "file_extension": ".py",
   "mimetype": "text/x-python",
   "name": "python",
   "nbconvert_exporter": "python",
   "pygments_lexer": "ipython3",
   "version": "3.7.3"
  }
 },
 "nbformat": 4,
 "nbformat_minor": 2
}
